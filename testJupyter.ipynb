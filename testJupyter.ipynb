{
 "cells": [
  {
   "cell_type": "code",
   "execution_count": null,
   "outputs": [],
   "source": [
    "import os\n",
    "import pandas as pd\n",
    "import zipfile\n",
    "\n",
    "def getFilesName(path):\n",
    "    s = []\n",
    "    if not os.path.exists(path):\n",
    "        print(\"该路径不存在，找不到该文件\")\n",
    "        return\n",
    "    if os.path.isdir(path):\n",
    "        files = os.listdir(path)\n",
    "        files.sort()\n",
    "        for file in files:  # 遍历文件夹\n",
    "            s.append(file)\n",
    "    elif os.path.isfile(path):\n",
    "        print('该路径是一个文件，不是一个文件夹，请重新输入')\n",
    "        return\n",
    "\n",
    "    fileNames = {'fileName': s,'filePath':[str(path)+\"/\"+str(i) for i in s]}\n",
    "    exportFile = pd.DataFrame(fileNames)\n",
    "    # exportFile.to_csv(\"lala.csv\",index=False)\n",
    "    # print(\"lalal\")\n",
    "    return exportFile\n",
    "\n",
    "def unZipFiles(fileName,startPath,endPath):\n",
    "    fileName=fileName.replace(\".zip\",\"\").replace(\".tar\",\"\")\n",
    "    f = zipfile.ZipFile(startPath, 'r')  # 压缩文件位置\n",
    "\n",
    "    if len(f.namelist()) ==1: #替换名字\n",
    "        finalPathName=f.extract(f.namelist()[0], endPath)\n",
    "        portion = os.path.splitext(finalPathName)\n",
    "        # print(portion)\n",
    "        os.rename(finalPathName, str(endPath)+\"/\"+fileName+portion[1])\n",
    "\n",
    "    elif len(f.namelist())==0:\n",
    "        print(\"{} 该压缩包无文件，已跳过解压\".format(fileName))\n",
    "\n",
    "    else:\n",
    "        for file in f.namelist():\n",
    "            theName=f.extract(file, endPath)  # 解压位置\n",
    "            portion = os.path.splitext(theName)\n",
    "            os.rename(theName, str(endPath) + \"/\" + fileName+\"_\"+str(portion[0]).split(\"/\")[-1]+ portion[1])\n",
    "\n",
    "    f.close()\n",
    "\n",
    "\n",
    "def unZipAll(dir,desPath):\n",
    "    for index,item in dir.iterrows():\n",
    "       if (\".zip\" or \".tar\") in item['fileName']:\n",
    "            unZipFiles(item['fileName'],item['filePath'],desPath)\n"
   ],
   "metadata": {
    "collapsed": false
   }
  },
  {
   "cell_type": "code",
   "execution_count": null,
   "outputs": [],
   "source": [
    "zipFiles=\"zipFiles\" # 这个路径是压缩包的文件路径\n",
    "unZipFilesDir=\"unZipFiles\"# 这个是指定的解压路径\n",
    "\n",
    "if not os.path.exists(unZipFilesDir):\n",
    "    os.makedirs(unZipFilesDir)\n",
    "\n",
    "filesName=getFilesName(zipFiles)\n",
    "unZipAll(filesName,unZipFilesDir)"
   ],
   "metadata": {
    "collapsed": false
   }
  }
 ],
 "metadata": {
  "kernelspec": {
   "display_name": "Python 3",
   "language": "python",
   "name": "python3"
  },
  "language_info": {
   "codemirror_mode": {
    "name": "ipython",
    "version": 2
   },
   "file_extension": ".py",
   "mimetype": "text/x-python",
   "name": "python",
   "nbconvert_exporter": "python",
   "pygments_lexer": "ipython2",
   "version": "2.7.6"
  }
 },
 "nbformat": 4,
 "nbformat_minor": 0
}
