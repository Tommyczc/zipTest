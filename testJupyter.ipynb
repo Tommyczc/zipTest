{
 "cells": [
  {
   "cell_type": "code",
   "execution_count": null,
   "outputs": [],
   "source": [
    "import os\n",
    "import main\n",
    "zipFiles=\"zipFiles\" # 这个路径是压缩包的文件路径\n",
    "unZipFilesDir=\"unZipFiles\"# 这个是指定的解压路径\n",
    "\n",
    "if not os.path.exists(unZipFilesDir):\n",
    "    os.makedirs(unZipFilesDir)\n",
    "\n",
    "filesName=main.getFilesName(zipFiles)\n",
    "main.unZipAll(filesName,unZipFilesDir)"
   ],
   "metadata": {
    "collapsed": false
   }
  }
 ],
 "metadata": {
  "kernelspec": {
   "display_name": "Python 3",
   "language": "python",
   "name": "python3"
  },
  "language_info": {
   "codemirror_mode": {
    "name": "ipython",
    "version": 2
   },
   "file_extension": ".py",
   "mimetype": "text/x-python",
   "name": "python",
   "nbconvert_exporter": "python",
   "pygments_lexer": "ipython2",
   "version": "2.7.6"
  }
 },
 "nbformat": 4,
 "nbformat_minor": 0
}
